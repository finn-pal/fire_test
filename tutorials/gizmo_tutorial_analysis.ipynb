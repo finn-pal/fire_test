{
 "cells": [
  {
   "attachments": {},
   "cell_type": "markdown",
   "metadata": {},
   "source": [
    "This tutorial walks you through how to use the gizmo_analysis package to analyze and plot particle data from Gizmo simulation snapshot files and additional post-processing files. This assumes that you already have worked through gizmo_tutorial_read.ipynb, the tutorial on reading this particle data.\n",
    "\n",
    "@author:\n",
    "    Andrew Wetzel <arwetzel@gmail.com>\n",
    "    Andrew Emerick <aemerick11@gmail.com>\n",
    "    Isaiah Santistevan <ibsantistevan@ucdavis.edu>"
   ]
  },
  {
   "cell_type": "code",
   "execution_count": null,
   "metadata": {},
   "outputs": [],
   "source": [
    "import gizmo_analysis as gizmo  # rename these packages for brevity\n",
    "import utilities as ut  # rename these packages for brevity\n",
    "\n",
    "import numpy as np\n",
    "\n",
    "%matplotlib inline\n",
    "import matplotlib.pyplot as plt\n"
   ]
  },
  {
   "attachments": {},
   "cell_type": "markdown",
   "metadata": {},
   "source": [
    "# Read the particle data"
   ]
  },
  {
   "cell_type": "code",
   "execution_count": null,
   "metadata": {},
   "outputs": [],
   "source": [
    "# You can copy this jupyter notebook tutorial into a simulation directory (for example, m12i_r7100/)\n",
    "# and run from there, or you can set simulation_directory below to point to any simulation directory\n",
    "# and then run this notebook from anywhere.\n",
    "\n",
    "# Use this is you are running from within a simulation directory\n",
    "#simulation_directory = '.'\n",
    "\n",
    "# Use this to point to a specific simulation directory, if you run this notebook from somwhere else\n",
    "simulation_directory = '/Users/awetzel/work/research/simulation/gizmo/simulations/m12/m12i/m12i_r7100'\n"
   ]
  },
  {
   "cell_type": "code",
   "execution_count": null,
   "metadata": {},
   "outputs": [],
   "source": [
    "# Read all particle species at z = 0\n",
    "\n",
    "part = gizmo.io.Read.read_snapshots('all', 'redshift', 0, simulation_directory)\n",
    "\n",
    "# Alternatley, read star and dark-matter particles at z = 0\n",
    "# part = gizmo.io.Read.read_snapshots(['star', 'dark'], 'redshift', 0, simulation_directory)\n"
   ]
  },
  {
   "attachments": {},
   "cell_type": "markdown",
   "metadata": {},
   "source": [
    "# Computing the spatial profile of a property\n",
    "\n",
    "A common task is to compute a radial profile of a given quantity, such as mass density, average age, median metallicity, etc.\n",
    "\n",
    "The following functions in *utilities.particle* make this easier to do.\n",
    "\n",
    "First, initiate an instance of SpeciesProfileClass.\n",
    "\n",
    "As you initialize, choose your distance/radius binning scheme:\n",
    "  distance limits, bin width, whether to use log scaling, number of spatial dimensions of profile\n",
    "\n",
    "Refer to ut.binning.DistanceBinClass() for more.\n"
   ]
  },
  {
   "cell_type": "code",
   "execution_count": null,
   "metadata": {},
   "outputs": [],
   "source": [
    "# linear binning from 0 to 20 kpc with 1 kpc bin width, assuming a 3-D profile\n",
    "\n",
    "SpeciesProfile = ut.particle.SpeciesProfileClass(\n",
    "    limits=[0, 20], width=1, log_scale=False, dimension_number=3)\n"
   ]
  },
  {
   "cell_type": "code",
   "execution_count": null,
   "metadata": {},
   "outputs": [],
   "source": [
    "# Using this binning scheme, compute sum/histogram/density of mass of star particles in each bin\n",
    "# This returns a bunch of summed properties via a dictionary\n",
    "\n",
    "pro = SpeciesProfile.get_sum_profiles(part, 'star', 'mass')\n"
   ]
  },
  {
   "cell_type": "code",
   "execution_count": null,
   "metadata": {},
   "outputs": [],
   "source": [
    "# You can supply a list of multiple species, and it will compute profiles for each\n",
    "# thus, get_sum_profiles() returns a dictionary for each species\n",
    "# 'baryon' is the sum total of stars + gas, 'total' is the sum total of all particle species\n",
    "\n",
    "pro.keys()\n"
   ]
  },
  {
   "cell_type": "code",
   "execution_count": null,
   "metadata": {},
   "outputs": [],
   "source": [
    "# The quantities that it stores in each bin\n",
    "\n",
    "pro['star'].keys()\n"
   ]
  },
  {
   "attachments": {},
   "cell_type": "markdown",
   "metadata": {},
   "source": [
    "Alternately, you may want to compute profiles along a disk's cylindrical R or Z axes. If so, first define the dimensionality of the profile when you initiate the class."
   ]
  },
  {
   "cell_type": "code",
   "execution_count": null,
   "metadata": {},
   "outputs": [],
   "source": [
    "# log binning from 0.1 to 10 kpc with 0.1 dex bin width, assuming a 2-D profile (along R)\n",
    "SpeciesProfile = ut.particle.SpeciesProfileClass(\n",
    "    limits=[0.1, 10], width=0.1, log_scale=True, dimension_number=2)\n"
   ]
  },
  {
   "cell_type": "code",
   "execution_count": null,
   "metadata": {},
   "outputs": [],
   "source": [
    "# Set rotation=True to force the code to compute profiles along the principal axes (assuming that you assign them during read in)\n",
    "# Use other_axis_distance_limits to limit the extent along the other axis,\n",
    "# in this case, limit the Z axis to within +/- 1 kpc (in the profile, all distances are absolute)\n",
    "\n",
    "pro = SpeciesProfile.get_sum_profiles(\n",
    "    part, 'star', 'mass', rotation=True, other_axis_distance_limits=[0, 1])\n"
   ]
  },
  {
   "cell_type": "code",
   "execution_count": null,
   "metadata": {},
   "outputs": [],
   "source": [
    "# Similarly, do this to compute profiles along disk's Z axis\n",
    "\n",
    "# log binning from 0.1 to 10 kpc with 0.1 dex bin width, assuming a 1-D profile (along Z)\n",
    "SpeciesProfile = ut.particle.SpeciesProfileClass(\n",
    "    limits=[0.1, 10], width=0.1, log_scale=True, dimension_number=1)\n",
    "\n",
    "# limit the R axex to [5, 8] kpc\n",
    "pro = SpeciesProfile.get_sum_profiles(\n",
    "    part, 'star', 'mass', rotation=True, other_axis_distance_limits=[5, 8])\n"
   ]
  },
  {
   "cell_type": "code",
   "execution_count": null,
   "metadata": {},
   "outputs": [],
   "source": [
    "# get_statistics_profiles() computes various statistics of a property of particles in each bin below,\n",
    "# it weights the property by the mass of each star particle (generally what you should do)\n",
    "# this returns a bunch of useful statistics via a dictionary\n",
    "\n",
    "pro = SpeciesProfile.get_statistics_profiles(\n",
    "    part, 'star', 'age', weight_property='mass', rotation=True, other_axis_distance_limits=[5, 8])\n"
   ]
  },
  {
   "cell_type": "code",
   "execution_count": null,
   "metadata": {},
   "outputs": [],
   "source": [
    "# the quantities that it stores in each bin\n",
    "\n",
    "pro['star'].keys()\n"
   ]
  },
  {
   "attachments": {},
   "cell_type": "markdown",
   "metadata": {},
   "source": [
    "# Make an image\n",
    "\n",
    "Here is a simple version of code for making an image. By default, it will align the axes with the stellar disk of the galaxy.\n"
   ]
  },
  {
   "cell_type": "code",
   "execution_count": null,
   "metadata": {},
   "outputs": [],
   "source": [
    "def plot_image(\n",
    "    part,\n",
    "    species_name='star',\n",
    "    weight_name='mass',\n",
    "    part_indices=None,\n",
    "    dimensions_plot=[0, 1],\n",
    "    distance_max=20,\n",
    "    distance_bin_width=0.1,\n",
    "    rotation=True,\n",
    "    host_index=0,\n",
    "    image_limits=[None, None],\n",
    "):\n",
    "    '''\n",
    "    Plot 2-D projected image of the positions of given partcle species.\n",
    "\n",
    "    Parameters\n",
    "    ----------\n",
    "    part : dict\n",
    "        catalog of particles at snapshot\n",
    "    species_name : str\n",
    "        name of particle species to plot\n",
    "    weight_name : str\n",
    "        property to weight positions by\n",
    "    part_indices : array\n",
    "        input selection indices for particles\n",
    "    dimensions_plot : list\n",
    "        spatial dimensions to plot\n",
    "    distance_max : float or array\n",
    "        maximum distance from center to plot [kpc]\n",
    "    distance_bin_width : float\n",
    "        size of pixel [kpc]\n",
    "    rotation : bool or array\n",
    "        whether to rotate particles\n",
    "        if True, will rotate to align with principal axes defined by input species\n",
    "    host_index : int\n",
    "        index of host halo to get position and rotation of (if not input them)\n",
    "    image_limits : list\n",
    "        min and max limits to impose on image dynamic range (exposure)\n",
    "    '''\n",
    "    from matplotlib import colors\n",
    "\n",
    "    dimen_label = {0: 'x', 1: 'y', 2: 'z'}\n",
    "\n",
    "    # get distance limits for plot\n",
    "    position_limits = [[-distance_max, distance_max] for _ in range(2)]\n",
    "    position_limits = np.array(position_limits)\n",
    "\n",
    "    # get array of particle indices (if not input)\n",
    "    if part_indices is None or len(part_indices) == 0:\n",
    "        part_indices = ut.array.get_arange(part[species_name]['position'].shape[0])\n",
    "\n",
    "    # get positions relative to host galaxy center\n",
    "    host_name = ut.catalog.get_host_name(host_index)\n",
    "    if rotation is True:\n",
    "        # rotate according to principal axes\n",
    "        positions = part[species_name].prop(f'{host_name}.distance.principal', part_indices)\n",
    "    else:\n",
    "        # positions in (arbitrary) Cartesian x,y,z of simulation\n",
    "        positions = part[species_name].prop(f'{host_name}.distance', part_indices)\n",
    "\n",
    "    # weight particles by some property?\n",
    "    weights = None\n",
    "    if weight_name:\n",
    "        weights = part[species_name].prop(weight_name, part_indices)\n",
    "\n",
    "    # keep only particles within distance limits along each dimension\n",
    "    masks = positions[:, dimensions_plot[0]] <= distance_max\n",
    "    for dimen_i in dimensions_plot:\n",
    "        masks *= (positions[:, dimen_i] >= -distance_max) * (positions[:, dimen_i] <= distance_max)\n",
    "\n",
    "    # keep only positions and weights within distance limits\n",
    "    positions = positions[masks]\n",
    "    if weights is not None:\n",
    "        weights = weights[masks]\n",
    "\n",
    "    # get number of bins (pixels) along each dimension\n",
    "    position_bin_number = int(np.round(2 * np.max(distance_max) / distance_bin_width))\n",
    "\n",
    "    # get 2-D histogram\n",
    "    hist_valuess, hist_xs, hist_ys = np.histogram2d(\n",
    "        positions[:, dimensions_plot[0]],\n",
    "        positions[:, dimensions_plot[1]],\n",
    "        position_bin_number,\n",
    "        position_limits,\n",
    "        weights=weights,\n",
    "    )\n",
    "    # convert to surface density\n",
    "    hist_valuess /= np.diff(hist_xs)[0] * np.diff(hist_ys)[0]\n",
    "\n",
    "    # set color map\n",
    "    if 'dark' in species_name:\n",
    "        color_map = plt.cm.afmhot\n",
    "    elif species_name == 'gas':\n",
    "        color_map = plt.cm.afmhot\n",
    "    elif species_name == 'star':\n",
    "        color_map = plt.cm.afmhot\n",
    "\n",
    "    fig = plt.figure()\n",
    "    subplot = fig.add_subplot(111, facecolor='black')\n",
    "\n",
    "    subplot.set_xlim(position_limits[0])\n",
    "    subplot.set_ylim(position_limits[1])\n",
    "\n",
    "    subplot.set_xlabel(f'{dimen_label[dimensions_plot[0]]} $\\\\left[ {{\\\\rm kpc}} \\\\right]$')\n",
    "    subplot.set_ylabel(f'{dimen_label[dimensions_plot[1]]} $\\\\left[ {{\\\\rm kpc}} \\\\right]$')\n",
    "\n",
    "    # make 2-D histogram image\n",
    "    Image = subplot.imshow(\n",
    "        hist_valuess.transpose(),\n",
    "        norm=colors.LogNorm(),\n",
    "        cmap=color_map,\n",
    "        aspect='auto',\n",
    "        interpolation='bilinear',\n",
    "        extent=np.concatenate(position_limits),\n",
    "        vmin=image_limits[0],\n",
    "        vmax=image_limits[1],\n",
    "    )\n",
    "\n",
    "    fig.colorbar(Image)\n",
    "\n",
    "    plt.show(block=False)\n"
   ]
  },
  {
   "cell_type": "code",
   "execution_count": null,
   "metadata": {},
   "outputs": [],
   "source": [
    "plot_image(part, 'star', dimensions_plot=[0, 1])\n",
    "plot_image(part, 'star', dimensions_plot=[1, 2])\n",
    "plot_image(part, 'star', dimensions_plot=[0, 2])\n"
   ]
  },
  {
   "attachments": {},
   "cell_type": "markdown",
   "metadata": {},
   "source": [
    "# Exploring particle positions"
   ]
  },
  {
   "cell_type": "code",
   "execution_count": null,
   "metadata": {},
   "outputs": [],
   "source": [
    "# Get cylindrical coordinates of star particles\n",
    "\n",
    "positions = part['star'].prop('host.distance.principal.cylindrical')\n"
   ]
  },
  {
   "cell_type": "code",
   "execution_count": null,
   "metadata": {},
   "outputs": [],
   "source": [
    "# Get 3-D cylindrical coordinates of particle 0: R [kpc physical], phi [radians], Z [kpc physical]\n",
    "\n",
    "positions[0]\n"
   ]
  },
  {
   "cell_type": "code",
   "execution_count": null,
   "metadata": {},
   "outputs": [],
   "source": [
    "# R coordinates [kpc physical] for all star particles\n",
    "\n",
    "positions[:, 0]\n"
   ]
  },
  {
   "cell_type": "code",
   "execution_count": null,
   "metadata": {},
   "outputs": [],
   "source": [
    "# Z coordinate [kpc physical] for particle 1234\n",
    "\n",
    "positions[1234, 2]\n"
   ]
  },
  {
   "cell_type": "code",
   "execution_count": null,
   "metadata": {},
   "outputs": [],
   "source": [
    "positions = part['star'].prop('host.distance.principal.cylindrical')\n",
    "velocities = part['star'].prop('host.velocity.principal.cylindrical')\n",
    "print(positions[:,0].size)\n"
   ]
  },
  {
   "cell_type": "code",
   "execution_count": null,
   "metadata": {},
   "outputs": [],
   "source": [
    "masks_1 = (positions[:,0] < 20)\n",
    "print(np.sum(masks_1))\n"
   ]
  },
  {
   "cell_type": "code",
   "execution_count": null,
   "metadata": {},
   "outputs": [],
   "source": [
    "masks_2 = masks_1 * (positions[:,0] > 10)\n",
    "print(np.sum(masks_2))\n"
   ]
  },
  {
   "cell_type": "code",
   "execution_count": null,
   "metadata": {},
   "outputs": [],
   "source": [
    "masks_3 = masks_2 * (velocities[:, 0] < 0)\n",
    "print(np.sum(masks_3))\n"
   ]
  },
  {
   "cell_type": "code",
   "execution_count": null,
   "metadata": {},
   "outputs": [],
   "source": [
    "positions[masks_3]\n"
   ]
  },
  {
   "cell_type": "code",
   "execution_count": null,
   "metadata": {},
   "outputs": [],
   "source": [
    "# Boolean (True/False) masks are a useful way to get particles of interest in some region\n",
    "# For example, this will select particles withing cylindrical R = [4, 12] kpc and Z = [-1, 1] kpc\n",
    "\n",
    "positions = part['star'].prop('host.distance.principal.cylindrical')\n",
    "\n",
    "masks = (positions[:, 0] > 4) * (positions[:, 0] < 12)  # select along R\n",
    "masks *= (positions[:, 2] > -1) * (positions[:, 2] < 1)  # select along Z\n",
    "\n",
    "# print R and Z values\n",
    "print(positions[masks, 0])\n",
    "print(positions[masks, 2])\n"
   ]
  },
  {
   "attachments": {},
   "cell_type": "markdown",
   "metadata": {},
   "source": [
    "# Plot the distribution (histogram) of a property\n",
    "\n",
    "Another common form of analysis is to examine the distribution (histogram) of some property, like gas density, temperature, or stellar age, or dark-matter velocity."
   ]
  },
  {
   "cell_type": "code",
   "execution_count": null,
   "metadata": {},
   "outputs": [],
   "source": [
    "# Here is a sample code that plots the distribution of some property.\n",
    "\n",
    "def plot_property_distribution_simple(\n",
    "    property_values,\n",
    "    property_limits=[],\n",
    "    property_bin_number=100,\n",
    "    property_log_scale=True,\n",
    "    axis_y_limits=[],\n",
    "    axis_y_log_scale=True,\n",
    "):\n",
    "    '''\n",
    "    Plot probability distribution of property.\n",
    "\n",
    "    Parameters\n",
    "    ----------\n",
    "    property_values : array\n",
    "        1-D array of values\n",
    "    property_limits : list\n",
    "        min and max limits of property\n",
    "    property_bin_number : int\n",
    "        number of bins within limits\n",
    "    property_log_scale : bool\n",
    "        whether to use logarithmic scaling for property bins\n",
    "    axis_y_limits : list\n",
    "        min and max limits for y axis\n",
    "    axis_y_log_scale : bool\n",
    "        whether to use logarithmic scaling for y axis\n",
    "    '''\n",
    "    if property_limits is None or not len(property_limits) > 0:\n",
    "        property_limits = [np.min(property_values), np.max(property_values)]\n",
    "\n",
    "    property_values_use = np.array(property_values)\n",
    "    property_limits_use = np.array(property_limits)\n",
    "\n",
    "    if property_log_scale:\n",
    "        property_values_use = np.log10(property_values_use)\n",
    "        property_limits_use = np.log10(property_limits)\n",
    "\n",
    "    # set this false to return a histogram\n",
    "    # set this true to return probability distribution\n",
    "    density = False\n",
    "\n",
    "    hist, bin_edges = np.histogram(\n",
    "        property_values_use, property_bin_number, property_limits_use, density=density\n",
    "    )\n",
    "\n",
    "    if property_log_scale:\n",
    "        bin_edges = 10**bin_edges\n",
    "\n",
    "    bin_edges = bin_edges[:-1]\n",
    "\n",
    "    # plot ----------\n",
    "    fig = plt.figure()\n",
    "    subplot = fig.add_subplot(111)\n",
    "\n",
    "    if property_log_scale:\n",
    "        subplot.set_xscale('log')\n",
    "    else:\n",
    "        subplot.set_xscale('linear')\n",
    "\n",
    "    if axis_y_log_scale:\n",
    "        subplot.set_yscale('log')\n",
    "    else:\n",
    "        subplot.set_yscale('linear')\n",
    "\n",
    "    subplot.set_xlim(property_limits)\n",
    "    if axis_y_limits is not None and len(axis_y_limits) > 0:\n",
    "        subplot.set_ylim(axis_y_limits)\n",
    "\n",
    "    subplot.set_xlabel('x label')\n",
    "    subplot.set_ylabel('y label')\n",
    "\n",
    "    subplot.plot(\n",
    "        bin_edges,\n",
    "        hist,\n",
    "        alpha=0.8,\n",
    "    )\n",
    "\n",
    "    plt.show(block=False)\n"
   ]
  },
  {
   "cell_type": "code",
   "execution_count": null,
   "metadata": {},
   "outputs": [],
   "source": [
    "# For example, plot the distribution of stellar ages\n",
    "\n",
    "masks = part['star'].prop('host.distance.total') < 20  # [kpc] get stars in/near host galaxy\n",
    "\n",
    "ages = part['star'].prop('age')[masks]\n",
    "\n",
    "plot_property_distribution_simple(\n",
    "    ages,\n",
    "    [0, 13],\n",
    "    property_bin_number=100,\n",
    "    property_log_scale=False,\n",
    "    axis_y_limits=[],\n",
    "    axis_y_log_scale=True,\n",
    ")\n"
   ]
  },
  {
   "cell_type": "code",
   "execution_count": null,
   "metadata": {},
   "outputs": [],
   "source": [
    "# For another example, plot the distribution of stellar total velocities\n",
    "\n",
    "masks = part['star'].prop('host.distance.total') < 20  # [kpc] get stars in/near host galaxy\n",
    "\n",
    "velocities = part['star'].prop('host.velocity.total')[masks]\n",
    "\n",
    "plot_property_distribution_simple(\n",
    "    velocities,\n",
    "    [0, 1000],\n",
    "    property_bin_number=100,\n",
    "    property_log_scale=False,\n",
    "    axis_y_limits=[],\n",
    "    axis_y_log_scale=True,\n",
    ")\n"
   ]
  },
  {
   "attachments": {},
   "cell_type": "markdown",
   "metadata": {},
   "source": [
    "## Scatter plot of property A versus property B\n",
    "\n",
    "Generally, the most useful/informative plots are to examine particles in bins of some x-quantity (like radial distance) and examine the mean and spread of some other y-property (like radial velocity) within that x-bin."
   ]
  },
  {
   "cell_type": "code",
   "execution_count": null,
   "metadata": {},
   "outputs": [],
   "source": [
    "# Here is an example: stellar radial velocity v distance\n",
    "\n",
    "distances = part['star'].prop('host.distance.total')  # total (scalar) distance\n",
    "velocities = part['star'].prop('host.velocity.principal.spherical')[:, 0]  # radial velocity\n",
    "\n",
    "# define distance bins\n",
    "distance_min = 0\n",
    "distance_max = 300\n",
    "distane_bin_width = 5\n",
    "distance_bins = np.arange(distance_min, distance_max, distane_bin_width)\n",
    "\n",
    "# arrays to store mean velocity and its standard deviation in each distance bin\n",
    "vel_rad_ave = np.zeros(distance_bins.size)\n",
    "vel_rad_std = np.zeros(distance_bins.size)\n",
    "\n",
    "# loop through distance bins to get masks of particles in that bin\n",
    "for distance_index, distance_bin in enumerate(distance_bins):\n",
    "    masks = (positions > distance_bin) * (positions < distance_bin + distane_bin_width)\n",
    "    # compile mean and standard deviation\n",
    "    vel_rad_ave[distance_index] = np.mean(velocities[masks])\n",
    "    vel_rad_std[distance_index] = np.std(velocities[masks])\n",
    "\n",
    "# print results\n",
    "#for distance_index, distance_bin in enumerate(distance_bins):\n",
    "#    print('{} {:.2f} {:.2f}'.format(distance_bin, vel_rad_ave[distance_index], vel_rad_std[distance_index]))\n"
   ]
  },
  {
   "cell_type": "code",
   "execution_count": null,
   "metadata": {},
   "outputs": [],
   "source": [
    "# Plot the above results for radial velocity versus distance,\n",
    "# showing each particle as a point, and including a line that shows the mean trend versus distance,\n",
    "# and a shaded region showing the standard deviation.\n",
    "\n",
    "fig, ax = plt.subplots()\n",
    "fig.set_size_inches(6, 4)\n",
    "\n",
    "ax.set_ylim(-400, 400)  # set y-axis limits in [km/s]\n",
    "ax.set_xlim(distance_min, distance_max)  # set x-axis limits in [kpc]\n",
    "ax.set_xlabel('distance from galaxy [kpc]')  # labels\n",
    "ax.set_ylabel('radial velocity [km/s]')\n",
    "\n",
    "# plot radial position versus radial velocity for each particle\n",
    "# because there are a lot of particles, you might want to sub-sample the arrays\n",
    "# for an array arr, you can sub-sample every Nth element via arr[::N]\n",
    "# this example selects every 100th particle within the distance limit\n",
    "masks = (positions < distance_max)\n",
    "sample_num = 100\n",
    "distances_rad = positions[masks][::sample_num]\n",
    "velocities_rad = velocities[masks][::sample_num]\n",
    "# alpha sets the transparency, s sets the point size\n",
    "ax.scatter(distances_rad, velocities_rad, alpha=0.2, s=1)\n",
    "\n",
    "# lw sets the line width\n",
    "ax.plot(distance_bins, vel_rad_ave, lw=3, color='black', label='mean')\n",
    "ax.fill_between(distance_bins, vel_rad_ave + 0.5 * vel_rad_std, vel_rad_ave - 0.5 * vel_rad_std,\n",
    "                alpha=0.5, color='black', label='std dev')\n",
    "\n",
    "ax.legend(loc='best')\n"
   ]
  },
  {
   "attachments": {},
   "cell_type": "markdown",
   "metadata": {},
   "source": [
    "## 2-D histogram plot of property A versus property B\n",
    "\n",
    "Instead of plotting a scatter plot (one point per particle), which can get unwieldy with this large number of particles, we instead can make a 2-D histogram, by binning particles into 2-D bins along both the x- and y-axes, then plotting a histogram (colormap) of the results."
   ]
  },
  {
   "cell_type": "code",
   "execution_count": null,
   "metadata": {},
   "outputs": [],
   "source": [
    "# Here is an example, 'hase diagram' for gas, of temperature versus density\n",
    "\n",
    "from matplotlib import colors\n",
    "\n",
    "masks = part['gas'].prop('host.distance.total') < 20  # [kpc] get gas in/near host galaxy\n",
    "\n",
    "masks *= part['gas'].prop('number.density') > 1e-4  # get limited range of gas density\n",
    "masks *= part['gas'].prop('number.density') < 1e4\n",
    "\n",
    "# Make the plot\n",
    "fig = plt.figure()\n",
    "ax = plt.gca()\n",
    "\n",
    "density_bins = np.logspace(-4, 12, 256)\n",
    "temperature_bins = np.logspace(1, 7, 256)\n",
    "\n",
    "ax.hist2d(\n",
    "    part['gas'].prop('number.density')[masks],\n",
    "    part['gas']['temperature'][masks],\n",
    "    bins=[density_bins, temperature_bins],\n",
    "    norm=colors.LogNorm(),\n",
    ")\n",
    "\n",
    "ax.set_xscale('log')\n",
    "ax.set_yscale('log')\n",
    "\n",
    "ax.set_xlim(1e-4, 1e4)\n",
    "\n",
    "ax.set_xlabel(r'number density [atoms cm$^{-3}$]')\n",
    "ax.set_ylabel(r'temperature [K]')\n"
   ]
  },
  {
   "attachments": {},
   "cell_type": "markdown",
   "metadata": {},
   "source": [
    "# For more information\n",
    "\n",
    "See gizmo_plot.py (which you can access here via gizmo.plot) for examples of analyzing and plotting particle data.\n",
    "\n",
    "See utilities/particle.py (which you can acces here via ut.particle) for mid-level analysis functions that may be useful.\n",
    "\n",
    "See other modules within utilities for low-level functions that may be useful."
   ]
  },
  {
   "cell_type": "markdown",
   "metadata": {},
   "source": []
  }
 ],
 "metadata": {
  "anaconda-cloud": {},
  "kernelspec": {
   "display_name": "Python 3.9.12 ('base')",
   "language": "python",
   "name": "python3"
  },
  "language_info": {
   "codemirror_mode": {
    "name": "ipython",
    "version": 3
   },
   "file_extension": ".py",
   "mimetype": "text/x-python",
   "name": "python",
   "nbconvert_exporter": "python",
   "pygments_lexer": "ipython3",
   "version": "3.10.11"
  },
  "vscode": {
   "interpreter": {
    "hash": "7115d20ca5c79f45e1a940baa27b9176d93813e1a46d8238c5b4349e136aedbe"
   }
  }
 },
 "nbformat": 4,
 "nbformat_minor": 1
}

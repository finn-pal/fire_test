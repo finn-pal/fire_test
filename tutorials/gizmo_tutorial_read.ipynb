{
    "cells": [
        {
            "attachments": {},
            "cell_type": "markdown",
            "metadata": {},
            "source": [
                "This tutorial walks you through how to use the gizmo_analysis package to read particle data from Gizmo simulation snapshot files and from additional post-processing files. It covers the basics of the particle data formats and units. See gizmo_tutorial_analysis.ipynb for a tutorial on analyzing and plotting this particle data.\n",
                "\n",
                "@author:\n",
                "    Andrew Wetzel <arwetzel@gmail.com>\n",
                "    Andrew Emerick <aemerick11@gmail.com>\n",
                "    Isaiah Santistevan <ibsantistevan@ucdavis.edu>\n",
                "\n",
                "\n",
                "## Download the _gizmo_analysis_ and _utilities_ python packages\n",
                "\n",
                "First, download or clone the _gizmo_analysis_ and _utilities_ python packages from:\n",
                "-  _gizmo_analysis_ : https://bitbucket.org/awetzel/gizmo_analysis\n",
                "-  _utilities_ : https://bitbucket.org/awetzel/utilities\n",
                "\n",
                "You can clone them via Git by typing \"git clone __[repository link above]__\" in your terminal, or you can download the repository via bitbucket by clicking on the ellipsis (the \"...\" button) and clicking \"Download repository\".\n",
                "\n",
                "\n",
                "## Set your paths\n",
                "\n",
                "Ensure that the \"*gizmo_analysis*\" and \"*utilities*\" package directories are in your Python path. This will make sure that python knows where these packages are. The simplest way to ensure this is to launch this notebook (or any python code) from within the directly where the *gizmo_analysis*/\" and \"*utilities*/ directories are. The better approach is to put the *gizmo_analysis*/\" and \"*utilities*/ directories in a directory that your python path includes. You may need to look up which file you need to define the paths in. One common place is in a file called the \"**.bashrc**\" file, which is typically stored in your home directory. (It may not be visible with a simple \"ls\" command; try using \"ls -a\" instead.)\n",
                "\n",
                "An example of what is in my \"**.bashrc**\" file is:\n",
                "\n",
                "export HOME=\"/Users/awetzel\"\n",
                "\n",
                "export PYTHONPATH=$HOME/anaconda/bin:$HOME/analysis\n",
                "\n",
                "The first line points my home directory, and the second line points to the directory where I have python installed, as well as the directory where I have the simulation data, \"*gizmo_analysis*\", and \"*utilities*\" package directories saved. *You will need to make sure that your paths point to your own home directory and the directory where you save the data and analysis packages.*\n",
                "\n",
                "\n",
                "## Simulation directory\n",
                "\n",
                "Move within a simulation directory, or set the *simulation_directory* parameter below to point to one. This simulation directory should contain:\n",
                "- __output/__ - subdirectory that contains Gizmo snapshot files: __snapshot_NNN.hdf5__ or __snapdir_NNN/snapshot_NNN.B.hdf5__, where NNN is the snapshot index, and B is the snapshot file block index\n",
                "- __snapshot_times.txt__ - text file that lists the indices, scale-factors, redshifts, and times of all snapshots stored from the simulation\n",
                "- (optionally but ideally) __initial_condition/__ - subdirectory that contains a MUSIC configuration file named __*.conf__ that stores all 6 cosmological parameters. If the simulation directory does not contain, this, GizmoAnalysis will assume the same cosmological parameters as in the AGORA simulation for whichever parameters it cannot read from the Gizmo snapshot header.\n",
                "- (optionally but ideally) __track/__ - subdirectory that constains a file __host_coordinates.hdf5__ that contains the position, velocity, and orientation of the host galaxy, along with the position and velocity of all star particles when they formed.\n"
            ]
        },
        {
            "cell_type": "code",
            "execution_count": null,
            "metadata": {},
            "outputs": [],
            "source": [
                "import gizmo_analysis as gizmo  # rename these packages for brevity\n",
                "import utilities as ut  # rename these packages for brevity\n",
                "\n",
                "import numpy as np\n",
                "\n",
                "%matplotlib inline\n",
                "import matplotlib.pyplot as plt"
            ]
        },
        {
            "cell_type": "code",
            "execution_count": null,
            "metadata": {},
            "outputs": [],
            "source": [
                "# You can access the files as named or use the aliases in __init__.py to keep it shorter \n",
                "# For example, these are the same:\n",
                "\n",
                "gizmo.gizmo_io\n",
                "gizmo.io"
            ]
        },
        {
            "attachments": {},
            "cell_type": "markdown",
            "metadata": {},
            "source": [
                "# Read the particle data\n",
                "\n",
                "You can copy this jupyter notebook tutorial into a simulation directory (for example, m12i_r7100/) and run from there, or you can set simulation_directory below to point to any simulation directory and then run this notebook from anywhere."
            ]
        },
        {
            "cell_type": "code",
            "execution_count": null,
            "metadata": {},
            "outputs": [],
            "source": [
                "# Use this is you are running from within a simulation directory\n",
                "#simulation_directory = '.'\n",
                "\n",
                "# Use this to point to a specific simulation directory, if you run this notebook from somwhere else\n",
                "simulation_directory = '/Users/awetzel/work/research/simulation/gizmo/simulations/m12/m12i/m12i_r7100'"
            ]
        },
        {
            "cell_type": "code",
            "execution_count": null,
            "metadata": {},
            "outputs": [],
            "source": [
                "# Read star and dark-matter particles at z = 0, store as a python dictionary\n",
                "\n",
                "part = gizmo.io.Read.read_snapshots(['star', 'dark'], 'redshift', 0, simulation_directory)"
            ]
        },
        {
            "cell_type": "code",
            "execution_count": null,
            "metadata": {},
            "outputs": [],
            "source": [
                "# Alternately, read all particle species at z = 0\n",
                "\n",
                "part = gizmo.io.Read.read_snapshots('all', 'redshift', 0, simulation_directory)"
            ]
        },
        {
            "attachments": {},
            "cell_type": "markdown",
            "metadata": {},
            "source": [
                "part is a dictionary with each particle species name as key:\n",
                "* 'star' = stars\n",
                "* 'gas' = gas\n",
                "* 'dark' = dark matter\n",
                "* 'dark2', 'dark3', 'dark4', etc = low-resolution dark matter (you rarely will be interested in it)\n"
            ]
        },
        {
            "cell_type": "code",
            "execution_count": null,
            "metadata": {},
            "outputs": [],
            "source": [
                "part.keys()"
            ]
        },
        {
            "cell_type": "code",
            "execution_count": null,
            "metadata": {},
            "outputs": [],
            "source": [
                "# Each species is its own dictionary that contains arrays of properties\n",
                "\n",
                "part['star'].keys()"
            ]
        },
        {
            "cell_type": "code",
            "execution_count": null,
            "metadata": {},
            "outputs": [],
            "source": [
                "# List the properties of dark-matter particles\n",
                "\n",
                "part['dark'].keys()"
            ]
        },
        {
            "cell_type": "code",
            "execution_count": null,
            "metadata": {},
            "outputs": [],
            "source": [
                "# List the properties of gas cells\n",
                "\n",
                "part['gas'].keys()"
            ]
        },
        {
            "attachments": {},
            "cell_type": "markdown",
            "metadata": {},
            "source": [
                "# Properties of particles\n",
                "\n",
                "## Units\n",
                "\n",
                "Unless otherwise noted, all quantities are in (combinations of):\n",
                "* mass [M_sun]\n",
                "* distance, radius [kpc physical]\n",
                "* velocity [km/s]\n",
                "* time [Gyr]\n",
                "\n",
                "\n",
                "## Stored properties\n",
                "\n",
                "All of the particle species have the following properties:\n",
                "-  'position' : 3D position along x, y, z grid [kpc comoving]\n",
                "-  'velocity' : 3D velocity along x, y, z grid [km/s]\n",
                "-  'mass'     : [Msun]\n",
                "\n",
                "Star particles also have:\n",
                "-  'form.scalefactor' : the scale-factor when the star particle formed (goes from 0 [Big Bang] to 1 [today])\n",
                "\n",
                "Gas cells also have:\n",
                "-  'temperature' : (K)\n",
                "-  'density' : [Msun / kpc^3]\n",
                "-  'sfr' : star-formation rate [Msun / yr]"
            ]
        },
        {
            "cell_type": "code",
            "execution_count": null,
            "metadata": {},
            "outputs": [],
            "source": [
                "# 3-D position of each star particle [kpc comoving]\n",
                "# stored via a particle_number x dimension_number array\n",
                "\n",
                "part['star']['position']"
            ]
        },
        {
            "cell_type": "code",
            "execution_count": null,
            "metadata": {},
            "outputs": [],
            "source": [
                "# 3-D velocity of each star particle (particle_number x dimension_number array) [km/s]\n",
                "\n",
                "part['star']['velocity']"
            ]
        },
        {
            "cell_type": "code",
            "execution_count": null,
            "metadata": {},
            "outputs": [],
            "source": [
                "# Mass of each star particle [M_sun]\n",
                "# All particles of a given type (star, gas, or dark) all have (about) the same mass, by design.\n",
                "# For stars and gas, they are not exact, because stellar mass loss transfers mass from star \n",
                "# particles to gas cells.\n",
                "\n",
                "part['star']['mass']"
            ]
        },
        {
            "cell_type": "code",
            "execution_count": null,
            "metadata": {},
            "outputs": [],
            "source": [
                "# Formation scale-factor of each star particle\n",
                "\n",
                "part['star']['form.scalefactor']"
            ]
        },
        {
            "attachments": {},
            "cell_type": "markdown",
            "metadata": {},
            "source": [
                "## Derived properties\n",
                "\n",
                "You can use __.prop('*property_name*')__ to derive other (more useful) quantities.\n",
                "\n",
                "Some properties that you may want include:\n",
                "-  'host.distance' : 3D distance of particles from the center of the galaxy in x,y,z grid [kpc physical]\n",
                "-  'host.distance.total' : Total (1D) distance from the center of the galaxy [kpc physical]\n",
                "-  'host.velocity' : 3D velocity of particles with respect to the center of the galaxy in x,y,z grid [km/s]\n",
                "-  'host.velocity.total' : Total (scalar) velocity [km/s]\n",
                "\n",
                "Star particles also have:\n",
                "-  'form.time' : Age of the Universe when the star particle formed [Gyr]\n",
                "-  'age' : Age of the star particle at the current snapshot [Gyr]\n",
                "\n",
                "Gas particles also have:\n",
                "-  'number.density' : [hydrogen atoms / cm^3]\n",
                "\n",
                "See the documentation in the gizmo_io.py file for all options of derived quantities.\n",
                "\n",
                "Here are a few examples of how to look at properties of star particles."
            ]
        },
        {
            "cell_type": "code",
            "execution_count": null,
            "metadata": {},
            "outputs": [],
            "source": [
                "# Get the formation time of the star particles [Gyr]\n",
                "\n",
                "part['star'].prop('form.time')"
            ]
        },
        {
            "cell_type": "code",
            "execution_count": null,
            "metadata": {},
            "outputs": [],
            "source": [
                "# Similarly, get the age of each star particle (the lookback time to when it formed) [Gyr]\n",
                "\n",
                "part['star'].prop('age')"
            ]
        },
        {
            "cell_type": "code",
            "execution_count": null,
            "metadata": {},
            "outputs": [],
            "source": [
                "# Get the mass of each star particle when it formed [Msun], \n",
                "# using the stellar evolution tracks in Gizmo\n",
                "# this initially sets up an internally stored spline to compute this\n",
                "\n",
                "part['star'].prop('form.mass')"
            ]
        },
        {
            "attachments": {},
            "cell_type": "markdown",
            "metadata": {},
            "source": [
                "## Elemental abundances (metallicities)\n",
                "\n",
                "Elemental abundances are stored in the particle catalog as linear mass fractions one value for each element, in a particle_number x element_number array. The first value is the mass fraction of all metals (everything not H, He) then He, C, N, O, etc."
            ]
        },
        {
            "cell_type": "code",
            "execution_count": null,
            "metadata": {},
            "outputs": [],
            "source": [
                "part['star']['massfraction']"
            ]
        },
        {
            "cell_type": "code",
            "execution_count": null,
            "metadata": {},
            "outputs": [],
            "source": [
                "# Get individual elements by their array index\n",
                "\n",
                "# Total metal mass fraction (everything not H, He) is index 0\n",
                "print(part['star']['massfraction'][:, 0])\n",
                "\n",
                "# Iron is index 10\n",
                "print(part['star']['massfraction'][:, 10])"
            ]
        },
        {
            "attachments": {},
            "cell_type": "markdown",
            "metadata": {},
            "source": [
                "More conveniently, use .prop() to compute derived quantities, including calling element by its name or symbol. See gizmo.io.ParticleDictionaryClass for all options for derived quantities."
            ]
        },
        {
            "cell_type": "code",
            "execution_count": null,
            "metadata": {},
            "outputs": [],
            "source": [
                "print(part['star'].prop('massfraction.metals'))\n",
                "print(part['star'].prop('massfraction.carbon'))\n",
                "print(part['star'].prop('massfraction.iron'))\n",
                "print(part['star'].prop('massfraction.fe'))  # you can use name or symbol"
            ]
        },
        {
            "attachments": {},
            "cell_type": "markdown",
            "metadata": {},
            "source": [
                "Also use .prop() to compute 'metallicity' [Z / H].\n",
                "\n",
                "For example, iron abundance:\n",
                "\n",
                "$[Fe / H] = \\log10[(mass_{Fe} / mass_{H})_{particle} / (mass_{Fe} / mass_{H})_{sun}]$.\n",
                "\n",
                "GizmoAnalysis assumes solar abundances from Asplund et al 2009."
            ]
        },
        {
            "cell_type": "code",
            "execution_count": null,
            "metadata": {},
            "outputs": [],
            "source": [
                "print(part['star'].prop('metallicity.metals'))\n",
                "print(part['star'].prop('metallicity.fe'))"
            ]
        },
        {
            "cell_type": "code",
            "execution_count": null,
            "metadata": {},
            "outputs": [],
            "source": [
                "# You also can use .prop() to compute simple arithmetic combinations, such as [Mg / Fe]\n",
                "\n",
                "part['star'].prop('metallicity.mg - metallicity.fe')"
            ]
        },
        {
            "cell_type": "code",
            "execution_count": null,
            "metadata": {},
            "outputs": [],
            "source": [
                "# Refer to utilities.constant for assumed solar values (Asplund et al 2009) and other constants.\n",
                "\n",
                "ut.constant.sun_abundance\n",
                "ut.constant.sun_massfraction"
            ]
        },
        {
            "attachments": {},
            "cell_type": "markdown",
            "metadata": {},
            "source": [
                "# Metadata about simulation\n",
                "\n",
                "The dictionary that stores the particle catalog is actually a dictionary class. It also stores meta-data about the simulation and ancillary data/functions via appended dictionaries, classes, and arrays."
            ]
        },
        {
            "cell_type": "code",
            "execution_count": null,
            "metadata": {},
            "outputs": [],
            "source": [
                "# Dictionary of useful information about the simulation\n",
                "\n",
                "part.info"
            ]
        },
        {
            "cell_type": "code",
            "execution_count": null,
            "metadata": {},
            "outputs": [],
            "source": [
                "# Dictionary of information about the snapshot that you read:\n",
                "# its index (number), scale-factor, redshift, time, lookback-time\n",
                "\n",
                "part.snapshot"
            ]
        },
        {
            "cell_type": "code",
            "execution_count": null,
            "metadata": {},
            "outputs": [],
            "source": [
                "# Dictionary class with information about *all* snapshots (typically ~600) saved for this simulation\n",
                "\n",
                "print(part.Snapshot.keys())\n",
                "print(part.Snapshot['redshift'][:10])"
            ]
        },
        {
            "cell_type": "code",
            "execution_count": null,
            "metadata": {},
            "outputs": [],
            "source": [
                "# Dictionary class of cosmological parameters, with internal functions for cosmological conversions\n",
                "# see utilities.cosmology for more\n",
                "\n",
                "part.Cosmology"
            ]
        },
        {
            "attachments": {},
            "cell_type": "markdown",
            "metadata": {},
            "source": [
                "# Coordinates of host galaxy/halo and principal axes of stellar disk\n",
                "\n",
                "If you enable gizmo.io.Read.read_snapshots(assign_hosts=True), which is True by default, then during read-in, this package assigns the position and velocity of the host galaxy/halo, using stars for a baryonic simulations and dark matter for a dark-matter-only simulation. GizmoAnalysis stores these coordinates in arrays appended to the particle dictionary.\n",
                "\n",
                "Most simulations have a single host galaxy/halo, but some (like ELVIS simulations of Local Group-like pairs) contain 2 (or more). You can control the number of hosts via: read_snapshots(host_number=2) By deafult, host_number=1.\n",
                "\n",
                "Once the code assigns the coordinates of each host, it also can compute the 'orientation' of the disk, by computing the rotation tensor and axis ratios of the principal axes of each host's stellar disk, defined via the moment of inertia tensor of young star particles, and oriented so the median v_phi of young star particles is positive. Enable this via: read_snapshots(assign_hosts_rotation=True). By default, assign_hosts_rotation=False.\n",
                "\n",
                "If someone has run particle tracking on the simulation, including generating a file track/host_coordinates.hdf5, this stores the posiion, velocity, rotation tensor, and axis ratio of each host galaxy at each snapshot, so you do not have to re-compute during every read. If you set assign_hosts=True or assign_hosts_rotation=True in read_snapshots(), then this package first will look for this file, and assign the host information stored in it, but if it does not find the file, this package will assign these host properties on the fly during read."
            ]
        },
        {
            "cell_type": "code",
            "execution_count": null,
            "metadata": {},
            "outputs": [],
            "source": [
                "# Compute (or read) the rotation tensor and axis ratios of the principal axes \n",
                "# (defined via moment of inertia tensor) of stars in each host during read as follows\n",
                "\n",
                "part = gizmo.io.Read.read_snapshots(['star', 'dark'], 'redshift', 0, simulation_directory, assign_hosts_rotation=True)"
            ]
        },
        {
            "cell_type": "code",
            "execution_count": null,
            "metadata": {},
            "outputs": [],
            "source": [
                "# position [kpc comoving] and velocity [km/s] of the center of each host galaxy\n",
                "# The package can store multiple hosts, though usually just one.\n",
                "\n",
                "print(part.host['position'])\n",
                "print(part.host['velocity'])"
            ]
        },
        {
            "cell_type": "code",
            "execution_count": null,
            "metadata": {},
            "outputs": [],
            "source": [
                "# The rotation tensor, used to rotate into the principal axes for each host galaxy\n",
                "\n",
                "print(part.host['rotation'])"
            ]
        },
        {
            "cell_type": "code",
            "execution_count": null,
            "metadata": {},
            "outputs": [],
            "source": [
                "# The axis ratios (min/maj, min/med, med/maj) for each host galaxy\n",
                "\n",
                "print(part.host['axis.ratios'])"
            ]
        },
        {
            "attachments": {},
            "cell_type": "markdown",
            "metadata": {},
            "source": [
                "Now you can compute different types of distances of star particles from the center of the host galaxy using __.prop('*property_name*')__ like in the examples mentioned above.\n",
                "\n",
                "To get the 3-D distance from the host center along the simulation's default x,y,z cartesian axes, you can use:\n",
                "-  .prop('host.distance')\n",
                "\n",
                "To get the 1-D distance (total scalar distance) from the host center, you can use:\n",
                "-  .prop('host.distance.total')"
            ]
        },
        {
            "cell_type": "code",
            "execution_count": null,
            "metadata": {},
            "outputs": [],
            "source": [
                "# Get the 3-D distance from the host center along simulation's default x,y,z cartesian axes [kpc physical]\n",
                "\n",
                "part['star'].prop('host.distance')"
            ]
        },
        {
            "cell_type": "code",
            "execution_count": null,
            "metadata": {},
            "outputs": [],
            "source": [
                "# Add '.total' to compute total (scalar) distance [kpc physical]\n",
                "\n",
                "part['star'].prop('host.distance.total')"
            ]
        },
        {
            "attachments": {},
            "cell_type": "markdown",
            "metadata": {},
            "source": [
                "To get the 3-D distance aligned with the principal axes of the host's stellar disk, you can use:\n",
                "- .prop('host.distance.principal')\n",
                "\n",
                "To get the 3-D distance aligned with the principal axes in cylindrical coordinates, you can use:\n",
                "- .prop('host.distance.principal.cylindrical')"
            ]
        },
        {
            "cell_type": "code",
            "execution_count": null,
            "metadata": {},
            "outputs": [],
            "source": [
                "# Add '.principal' to compute 3-D distance aligned with the principal \n",
                "# (major, intermediate, minor) axes of each host's stellar disk [kpc physical]\n",
                "\n",
                "part['star'].prop('host.distance.principal')"
            ]
        },
        {
            "cell_type": "code",
            "execution_count": null,
            "metadata": {},
            "outputs": [],
            "source": [
                "# Add '.cylindrical' or '.cyl' to compute 3-D distance aligned with the principal axes in cylindrical coordinates\n",
                "# First value is along the major axes (R, positive definite) [kpc physical]\n",
                "# Second value is angle (phi, 0 to 2 * pi) [radian]\n",
                "# Third value is vertical height wrt the disk (Z, signed) [kpc physical]\n",
                "\n",
                "part['star'].prop('host.distance.principal.cylindrical')"
            ]
        },
        {
            "cell_type": "code",
            "execution_count": null,
            "metadata": {},
            "outputs": [],
            "source": [
                "# Alternately, add 'spherical' to compute 3-D distance aligned with the principal axes in spherical coordinates\n",
                "# First value is the radial distance from the galaxy center (r, positive definite)\n",
                "# Second value is theta (theta, 0 to pi)\n",
                "# Third value is phi (phi, 0 to 2 * pi)\n",
                "\n",
                "part['star'].prop('host.distance.principal.spherical')"
            ]
        },
        {
            "attachments": {},
            "cell_type": "markdown",
            "metadata": {},
            "source": [
                "You can use similar commands for the velocities"
            ]
        },
        {
            "cell_type": "code",
            "execution_count": null,
            "metadata": {},
            "outputs": [],
            "source": [
                "# Compute 3-D velocity from each host galaxy center along simulation's default x,y,z cartesian axes [km/s]\n",
                "\n",
                "part['star'].prop('host.velocity')"
            ]
        },
        {
            "cell_type": "code",
            "execution_count": null,
            "metadata": {},
            "outputs": [],
            "source": [
                "# Compute total (scalar) velocity [km/s]\n",
                "\n",
                "part['star'].prop('host.velocity.total')"
            ]
        },
        {
            "cell_type": "code",
            "execution_count": null,
            "metadata": {},
            "outputs": [],
            "source": [
                "# Compute 3-D velocity along the principal (major, intermediate, minor) axes [km/s]\n",
                "\n",
                "part['star'].prop('host.velocity.principal')"
            ]
        },
        {
            "cell_type": "code",
            "execution_count": null,
            "metadata": {},
            "outputs": [],
            "source": [
                "# Compute 3-D velocity in cylindrical coordinates\n",
                "# First value is along the major axes\n",
                "# Secod value is azimuthal velocity in the plane of the disk \n",
                "# (the disk is oriented) so the mean v_phi should be positive\n",
                "# Third value is vertical velocity wrt the disk (signed)\n",
                "\n",
                "part['star'].prop('host.velocity.principal.cylindrical')"
            ]
        },
        {
            "cell_type": "code",
            "execution_count": null,
            "metadata": {},
            "outputs": [],
            "source": [
                "# If you want to store multiple hosts (like the ELVIS Local Group-like paired host simulations), \n",
                "# set host_number=2 during read-in.\n",
                "# In fact, you can do this for any simulation, with an arbitrary number of hosts\n",
                "# the code simply finds the second (and third, etc) most massive galaxy in the zoom-in region.\n",
                "\n",
                "part = gizmo.io.Read.read_snapshots(['star', 'dark'], 'redshift', 0, simulation_directory, host_number=2, assign_hosts='mass', assign_hosts_rotation=True)"
            ]
        },
        {
            "cell_type": "code",
            "execution_count": null,
            "metadata": {},
            "outputs": [],
            "source": [
                "# Everything above still works, just use \n",
                "# 'host' (or 'host1'), 'host2', 'host3', etc to identify which host you want coordinates relative to\n",
                "\n",
                "print(part['star'].prop('host.distance'))  # same as part['star'].prop('host1.distance')\n",
                "print(part['star'].prop('host2.distance'))"
            ]
        },
        {
            "cell_type": "code",
            "execution_count": null,
            "metadata": {},
            "outputs": [],
            "source": [
                "# the particle dictionary stores coordinates and rotation tensors for each host\n",
                "\n",
                "print(part.host['position'])\n",
                "print(part.host['velocity'])\n",
                "print(part.host['rotation'])\n",
                "print(part.host['axis.ratios'])"
            ]
        },
        {
            "attachments": {},
            "cell_type": "markdown",
            "metadata": {},
            "source": [
                "# Particle tracking\n",
                "\n",
                "For some simulations, we have run a post-processing particle tracking pipeline, which makes it easy to track star particles and/or gas cells across time. These simulations have a directory named __track/__, which contains .hdf5 files.\n",
                "\n",
                "__gizmo_track.py__ contains the code that generates and reads these particle tracking files.\n",
                "\n",
                "We use this particle tracking pipeline to generate the file __track/host_coordinates.hdf5__, which stores the posiion, velocity, rotation tensor, and axis ratio of each host galaxy at each snapshot. We compute this by tracking back only the particles that end up in each host galaxy/halo at the final snapshot (z = 0).\n",
                "\n",
                "The code stores each host's coordinates and rotation tensor (for its principal axes) at each snapshot. You may see Nan values at early snapshots, if the code was not able to identify a host at that time."
            ]
        },
        {
            "cell_type": "code",
            "execution_count": null,
            "metadata": {},
            "outputs": [],
            "source": [
                "print('positions')\n",
                "print(part.hostz['position'])\n",
                "\n",
                "print('velocities')\n",
                "print(part.hostz['velocity'])\n",
                "\n",
                "print('rotation tensors')\n",
                "print(part.hostz['rotation'])\n",
                "\n",
                "print('axis ratios')\n",
                "print(part.hostz['axis.ratios'])"
            ]
        },
        {
            "attachments": {},
            "cell_type": "markdown",
            "metadata": {},
            "source": [
                "## Formation coordinates of star particles\n",
                "\n",
                "The file __track/host_coordinates.hdf5__ also stores, for every star particles at z = 0, its 'formation coordinates', that is, its 3-D position and 3-D velocity at the snapshot immediately after it formed. Because we typically store snapshots every 20 - 25 Myr, this means that these 'formation' coordiantes are the coordinates of a star particle 0 - 25 Myr after it formed. These coordinates are aligned with the principal (major, intermediate, minor) axes of the stellar disk (as defined via its moment of inertia tensor) computed separately at each snapshot."
            ]
        },
        {
            "cell_type": "code",
            "execution_count": null,
            "metadata": {},
            "outputs": [],
            "source": [
                "# You can read the formation coordinates of star particles during snapshot read-in\n",
                "# by setting assign_formation_coordinates=True\n",
                "\n",
                "part = gizmo.io.Read.read_snapshots(\n",
                "    ['star'], 'redshift', 0, simulation_directory, assign_hosts_rotation=True, \n",
                "    assign_formation_coordinates=True)"
            ]
        },
        {
            "cell_type": "code",
            "execution_count": null,
            "metadata": {},
            "outputs": [],
            "source": [
                "# 3-D distance at formation, aligned with the principal axes of each host galaxy at that time [kpc physical]\n",
                "# The code computed the principal axes *independently* at each snapshot.\n",
                "# Distance along dimension 0 is aligned with the major axis\n",
                "# Distance along dimension 1 is algined with the intermediate axis\n",
                "# Distance along dimension 2 is aligned with the minor (Z) axis\n",
                "\n",
                "part['star']['form.host.distance']\n",
                "\n",
                "# part_at_z0['star']['form.host2.distance']  # if the simulation has a second host galaxy (for example, ELVIS)"
            ]
        },
        {
            "cell_type": "code",
            "execution_count": null,
            "metadata": {},
            "outputs": [],
            "source": [
                "# As before, add 'total' to get the total scalar (absolute) distance wrt each host galaxy at formation [kpc physical]\n",
                "# this is a derived quantity, so you need to call it via .prop().\n",
                "\n",
                "part['star'].prop('form.host.distance.total')"
            ]
        },
        {
            "cell_type": "code",
            "execution_count": null,
            "metadata": {},
            "outputs": [],
            "source": [
                "# Add 'cylindrical' to get 3-D distance at formation wrt each host galaxy in cylindrical coordinates [kpc physical]\n",
                "\n",
                "part['star'].prop('form.host.distance.cylindrical')"
            ]
        },
        {
            "cell_type": "code",
            "execution_count": null,
            "metadata": {},
            "outputs": [],
            "source": [
                "# These values are more reasonable if you restrict to star particles that formed within a host galaxy\n",
                "\n",
                "# Select particles formed at d = 0 - 8 kpc physical\n",
                "part_indices = ut.array.get_indices(part['star'].prop('form.host.distance.total'), [0, 8])\n",
                "\n",
                "part['star'].prop('form.host.distance.cylindrical', part_indices)"
            ]
        },
        {
            "cell_type": "code",
            "execution_count": null,
            "metadata": {},
            "outputs": [],
            "source": [
                "# Same for velocity at formation\n",
                "\n",
                "print(part['star']['form.host.velocity'])\n",
                "print(part['star'].prop('form.host.velocity.total'))\n",
                "print(part['star'].prop('form.host.velocity.cylindrical'))"
            ]
        },
        {
            "attachments": {},
            "cell_type": "markdown",
            "metadata": {},
            "source": [
                "## Tracking star particles and gas cells across snapshots"
            ]
        },
        {
            "attachments": {},
            "cell_type": "markdown",
            "metadata": {},
            "source": [
                "Within __track/__, the files named __star\\_gas\\_pointers\\_NNN.hdf5__ store, for each star particle and gas cell at z = 0, a pointer to its array index in the catalog at each previous snapshot, NNN. This makes it easy to get the properties of a given star particle at any previous snapshot."
            ]
        },
        {
            "attachments": {},
            "cell_type": "markdown",
            "metadata": {},
            "source": [
                "### Tracking between z = 0 and a previous snapshot\n",
                "\n",
                "Say you want to find out what star particles and gas cells were doing at z = 2. First, read in the particle catalog at z = 0."
            ]
        },
        {
            "cell_type": "code",
            "execution_count": null,
            "metadata": {},
            "outputs": [],
            "source": [
                "# Read catalog of star particles and gas cells at z = 0\n",
                "\n",
                "part_at_z0 = gizmo.io.Read.read_snapshots(['star', 'gas'], 'redshift', 0, simulation_directory)"
            ]
        },
        {
            "attachments": {},
            "cell_type": "markdown",
            "metadata": {},
            "source": [
                "Next, read particles at z = 2. Set assign_pointers=True to assign pointers to the particle catalog at z = 2."
            ]
        },
        {
            "cell_type": "code",
            "execution_count": null,
            "metadata": {},
            "outputs": [],
            "source": [
                "# Read in catalog of star particles and gas cells at z = 2 (corresponding to snapshot 172)\n",
                "\n",
                "part_at_z2 = gizmo.io.Read.read_snapshots(\n",
                "    ['star', 'gas'], 'redshift', 2, simulation_directory, assign_pointers=True)"
            ]
        },
        {
            "cell_type": "code",
            "execution_count": null,
            "metadata": {},
            "outputs": [],
            "source": [
                "# The packaes stores particle pointers via a dictionary class that it appends to the particle catalog dictionary.\n",
                "# A negative value for a pointer means that the star formed after this snapshot, so it does not exist at this snapshot.\n",
                "\n",
                "part_at_z2.Pointer"
            ]
        },
        {
            "cell_type": "code",
            "execution_count": null,
            "metadata": {},
            "outputs": [],
            "source": [
                "# The particle species that we have compiled tracking pointers for\n",
                "\n",
                "part_at_z2.Pointer['species']"
            ]
        },
        {
            "attachments": {},
            "cell_type": "markdown",
            "metadata": {},
            "source": [
                "Print the snapshot indices at z = 2 and at the reference redshift, which is z = 0"
            ]
        },
        {
            "cell_type": "code",
            "execution_count": null,
            "metadata": {},
            "outputs": [],
            "source": [
                "# The snapshot index at this redshift (z = 2) and at the reference redshift (z = 0)\n",
                "\n",
                "print(part_at_z2.Pointer['z.snapshot.index'])\n",
                "print(part_at_z2.Pointer['z0.snapshot.index'])"
            ]
        },
        {
            "attachments": {},
            "cell_type": "markdown",
            "metadata": {},
            "source": [
                "See the number of particles at z = 2 and at z = 0"
            ]
        },
        {
            "cell_type": "code",
            "execution_count": null,
            "metadata": {},
            "outputs": [],
            "source": [
                "# The number of particles at this redshift (z = 2) and at the reference redshift (z = 0)\n",
                "\n",
                "print(part_at_z2.Pointer['z.star.number'])\n",
                "print(part_at_z2.Pointer['z.gas.number'])\n",
                "\n",
                "print(part_at_z2.Pointer['z0.star.number'])\n",
                "print(part_at_z2.Pointer['z0.gas.number'])"
            ]
        },
        {
            "attachments": {},
            "cell_type": "markdown",
            "metadata": {},
            "source": [
                "The dictionaries below store the actual pointer indices. Because gas cells can become star particles, the code stores the pointers from this combined gas + star list at z = 0 to z."
            ]
        },
        {
            "cell_type": "code",
            "execution_count": null,
            "metadata": {},
            "outputs": [],
            "source": [
                "print(part_at_z2.Pointer['z0.to.z.index'])\n",
                "\n",
                "# This also stores the limits of the indices of each species at each snapshot, \n",
                "# so you can convert back to the index within the individual star list or the individual gas list \n",
                "# (as stored in the particle catalog)\n",
                "print(part_at_z2.Pointer['z.star.index.limits'])\n",
                "print(part_at_z2.Pointer['z.gas.index.limits'])\n",
                "\n",
                "print(part_at_z2.Pointer['z0.star.index.limits'])\n",
                "print(part_at_z2.Pointer['z0.gas.index.limits'])"
            ]
        },
        {
            "attachments": {},
            "cell_type": "markdown",
            "metadata": {},
            "source": [
                "Even easier, you can use this function to get pointers for a given species from z = 0 to z = 2."
            ]
        },
        {
            "cell_type": "code",
            "execution_count": null,
            "metadata": {},
            "outputs": [],
            "source": [
                "pointers = part_at_z2.Pointer.get_pointers(species_name_from='star', species_names_to='star')"
            ]
        },
        {
            "attachments": {},
            "cell_type": "markdown",
            "metadata": {},
            "source": [
                "### A more specific example\n",
                "\n",
                "Say you have a list of star particle indices of interest at z = 0. Save those indices to an array and print out their positions at z = 0."
            ]
        },
        {
            "cell_type": "code",
            "execution_count": null,
            "metadata": {},
            "outputs": [],
            "source": [
                "indices_at_z0 = np.array([2, 4])\n",
                "\n",
                "# list their positions at z = 0\n",
                "part_at_z0['star']['position'][indices_at_z0]"
            ]
        },
        {
            "attachments": {},
            "cell_type": "markdown",
            "metadata": {},
            "source": [
                "Now, you can get their indices in the particle catalog at z = 2 using the following command. Remember that negative indices means that the star particle did not exist at z = 2."
            ]
        },
        {
            "cell_type": "code",
            "execution_count": null,
            "metadata": {},
            "outputs": [],
            "source": [
                "indices_at_z2 = pointers[indices_at_z0]\n",
                "print(indices_at_z2)"
            ]
        },
        {
            "attachments": {},
            "cell_type": "markdown",
            "metadata": {},
            "source": [
                "Now you can easily get any property of interest at z = 2. Print their positions:"
            ]
        },
        {
            "cell_type": "code",
            "execution_count": null,
            "metadata": {},
            "outputs": [],
            "source": [
                "part_at_z2['star']['position'][indices_at_z2]"
            ]
        },
        {
            "cell_type": "code",
            "execution_count": null,
            "metadata": {},
            "outputs": [],
            "source": [
                "# Alternatively, you can track particles going forward in time by setting forward=True\n",
                "\n",
                "pointers = part_at_z2.Pointer.get_pointers(species_name_from='star', species_names_to='star', forward=True)\n",
                "\n",
                "indices_at_z2 = np.array([5, 8, 13])\n",
                "indices_at_z0 = pointers[indices_at_z2]\n",
                "print(indices_at_z0)\n",
                "print(part_at_z0['star']['position'][indices_at_z0])"
            ]
        },
        {
            "cell_type": "code",
            "execution_count": null,
            "metadata": {},
            "outputs": [],
            "source": [
                "# Also, you can track star particles back to both progenitor star particles and progenitor gas cells\n",
                "\n",
                "pointers = part_at_z2.Pointer.get_pointers(species_name_from='star', species_names_to=['star', 'gas'])\n",
                "\n",
                "# But now, pointers is a *dictionary* that stores both the index and species of each progenitor particle\n",
                "print(pointers)\n",
                "\n",
                "# get star particle indices at z = 0 and see what they were at z = 2\n",
                "star_indices_at_z0 = np.array([0, 5, 8, 13])\n",
                "print(pointers['species'][star_indices_at_z0], pointers['index'][star_indices_at_z0])\n",
                "\n",
                "# get those that were gas cells\n",
                "masks = np.where(pointers['species'][star_indices_at_z0] == 'gas')[0]\n",
                "\n",
                "gas_indices_at_z2 = pointers['index'][star_indices_at_z0[masks]]\n",
                "\n",
                "print(gas_indices_at_z2)\n",
                "print(part_at_z2['gas']['position'][gas_indices_at_z2])"
            ]
        },
        {
            "cell_type": "code",
            "execution_count": null,
            "metadata": {},
            "outputs": [],
            "source": [
                "# Similar for working forward in time, \n",
                "# track gas cells at z that can be star particles or gas cells at z = 0\n",
                "\n",
                "pointers = part_at_z2.Pointer.get_pointers(\n",
                "    species_name_from='gas', species_names_to=['star', 'gas'], forward=True)\n",
                "\n",
                "# get gas indices at z = 2 and see what they end up as at z = 0\n",
                "gas_indices_at_z2 = np.array([0, 5, 8, 13])\n",
                "print(pointers['species'][gas_indices_at_z2])\n",
                "print(pointers['index'][gas_indices_at_z2])\n",
                "\n",
                "# get those that are star particles at z = 0\n",
                "masks = np.where(pointers['species'][gas_indices_at_z2] == 'star')[0]\n",
                "\n",
                "star_indices_at_z0 = pointers['index'][gas_indices_at_z2[masks]]\n",
                "\n",
                "print(star_indices_at_z0)\n",
                "print(part_at_z0['star']['position'][star_indices_at_z0])"
            ]
        },
        {
            "attachments": {},
            "cell_type": "markdown",
            "metadata": {},
            "source": [
                "### tracking between two snapshots when both are at z > 0\n",
                "\n",
                "Particle tracking also can handle tracking particles between any two snapshots."
            ]
        },
        {
            "cell_type": "code",
            "execution_count": null,
            "metadata": {},
            "outputs": [],
            "source": [
                "# Read catalogs of star particles and gas cells at z = 1 and 2, including their pointers relative to z = 0\n",
                "# set asign_pointers=True automatically to append pointer class to each particle catalog\n",
                "part_at_z1 = gizmo.io.Read.read_snapshots(\n",
                "    ['star', 'gas'], 'redshift', 1, simulation_directory, assign_pointers=True)\n",
                "part_at_z2 = gizmo.io.Read.read_snapshots(\n",
                "    ['star', 'gas'], 'redshift', 2, simulation_directory, assign_pointers=True)"
            ]
        },
        {
            "cell_type": "code",
            "execution_count": null,
            "metadata": {},
            "outputs": [],
            "source": [
                "# Now just append intermediate-redshift pointers (to z = 1) to pointers at z = 2\n",
                "\n",
                "part_at_z2.Pointer.add_intermediate_pointers(part_at_z1.Pointer)"
            ]
        },
        {
            "cell_type": "code",
            "execution_count": null,
            "metadata": {},
            "outputs": [],
            "source": [
                "# Now you can access pointers from z = 1 to z = 2, by setting intermediate_snapshot=True\n",
                "\n",
                "pointers = part_at_z2.Pointer.get_pointers(\n",
                "    species_name_from='star', species_names_to=['star', 'gas'], intermediate_snapshot=True)\n",
                "\n",
                "# get star indices at z = 0 and see what they were at z = 2\n",
                "star_indices_at_z1 = np.array([0, 5, 8, 13])\n",
                "print(pointers['species'][star_indices_at_z1])\n",
                "print(pointers['index'][star_indices_at_z1])\n",
                "\n",
                "# get those that are star particles at z = 2\n",
                "masks = np.where(pointers['species'][star_indices_at_z1] == 'star')[0]\n",
                "\n",
                "star_indices_at_z2 = pointers['index'][star_indices_at_z1[masks]]\n",
                "\n",
                "print(star_indices_at_z2)\n",
                "print(part_at_z2['star']['position'][star_indices_at_z2])"
            ]
        },
        {
            "cell_type": "code",
            "execution_count": null,
            "metadata": {},
            "outputs": [],
            "source": [
                "# If you just want to track a single species (star -> star or gas -> gas) between 2 snapshots,\n",
                "# read_pointers_between_snapshots() makes it easy to get the pointer indices between any 2 snapshots\n",
                "\n",
                "ParticlePointer = gizmo.track.ParticlePointerClass(simulation_directory=simulation_directory)\n",
                "\n",
                "# tracking forward in time\n",
                "pointers_z2_to_z1 = ParticlePointer.read_pointers_between_snapshots(\n",
                "    snapshot_index_from=172, snapshot_index_to=277, species_name='star')\n",
                "\n",
                "# for example, see how far star particles have moved\n",
                "print(part_at_z2['star']['position'] - part_at_z1['star']['position'][pointers_z2_to_z1])\n",
                "\n",
                "\n",
                "# similar for tracking going backward in time\n",
                "pointers_z1_to_z2 = ParticlePointer.read_pointers_between_snapshots(\n",
                "    snapshot_index_from=277, snapshot_index_to=172, species_name='star')\n",
                "\n",
                "# in this case, need to select stars that existed as stars at z = 2\n",
                "masks = (pointers_z1_to_z2 >= 0)\n",
                "\n",
                "# see how far star particles have moved\n",
                "print(part_at_z1['star']['position'][masks] - part_at_z1['star']['position'][pointers_z1_to_z2[masks]])"
            ]
        },
        {
            "cell_type": "code",
            "execution_count": null,
            "metadata": {},
            "outputs": [],
            "source": [
                "# Do the same, but for gas\n",
                "\n",
                "ParticlePointer = gizmo.track.ParticlePointerClass(simulation_directory=simulation_directory)\n",
                "\n",
                "# tracking going forward in time\n",
                "pointers_z2_to_z1 = ParticlePointer.read_pointers_between_snapshots(\n",
                "    snapshot_index_from=172, snapshot_index_to=277, species_name='gas')\n",
                "\n",
                "# ensure that gas cell still is a gas cell at z = 1\n",
                "masks = (pointers_z2_to_z1 >= 0)\n",
                "\n",
                "print(part_at_z2['gas']['position'][masks] - part_at_z1['gas']['position'][pointers_z2_to_z1[masks]])\n",
                "\n",
                "# tracking going backward in time\n",
                "pointers_z1_to_z2 = ParticlePointer.read_pointers_between_snapshots(\n",
                "    snapshot_index_from=277, snapshot_index_to=172, species_name='gas')\n",
                "\n",
                "# for gas, still have to ensure positive pointers, even if tracking going backward in time,\n",
                "# because a few gas cells that leave the zoom-in region get culled (for numerical stability) by z = 0\n",
                "# (remember that the pointers always route through z = 0)\n",
                "masks = (pointers_z1_to_z2 >= 0)\n",
                "\n",
                "print(part_at_z1['gas']['position'][masks] - part_at_z2['gas']['position'][pointers_z1_to_z2[masks]])"
            ]
        },
        {
            "attachments": {},
            "cell_type": "markdown",
            "metadata": {},
            "source": [
                "# For more information\n",
                "\n",
                "See *gizmo_tutorial_analysis.py* for a tutorial on analyzing and plotting this particle data.\n",
                "\n",
                "See *gizmo_plot.py* (which you can access here via *gizmo.plot*) for more examples of analyzing and plotting particle data.\n",
                "\n",
                "See *utilities/particle.py* (which you can acces here via *ut.particle*) for mid-level analysis functions that may be useful.\n",
                "\n",
                "See other modules within *utilities* for low-level functions that may be useful."
            ]
        },
        {
            "cell_type": "markdown",
            "metadata": {},
            "source": []
        }
    ],
    "metadata": {
        "anaconda-cloud": {},
        "kernelspec": {
            "display_name": "Python 3.9.12 ('base')",
            "language": "python",
            "name": "python3"
        },
        "language_info": {
            "codemirror_mode": {
                "name": "ipython",
                "version": 3
            },
            "file_extension": ".py",
            "mimetype": "text/x-python",
            "name": "python",
            "nbconvert_exporter": "python",
            "pygments_lexer": "ipython3",
            "version": "3.10.11"
        },
        "vscode": {
            "interpreter": {
                "hash": "7115d20ca5c79f45e1a940baa27b9176d93813e1a46d8238c5b4349e136aedbe"
            }
        }
    },
    "nbformat": 4,
    "nbformat_minor": 1
}

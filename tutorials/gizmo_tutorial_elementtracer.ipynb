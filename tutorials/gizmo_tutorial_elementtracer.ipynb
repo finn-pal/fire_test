{
 "cells": [
  {
   "attachments": {},
   "cell_type": "markdown",
   "metadata": {},
   "source": [
    "# element tracer model for assigning elemental abundances to particles in post-processing\n",
    "\n",
    "This section is a tutorial on using the element-tracer model to assign elemental abundaces to star particles and gas cells in FIRE-2 and FIRE-3 simulations. This requires that you are analyzing a simulation has has the element-tracer model enabled, via defining GALSF_FB_FIRE_AGE_TRACERS in Gizmo's Config.sh."
   ]
  },
  {
   "cell_type": "code",
   "execution_count": null,
   "metadata": {},
   "outputs": [],
   "source": [
    "import gizmo_analysis as gizmo\n",
    "import utilities as ut\n",
    "\n",
    "import numpy as np\n",
    "\n",
    "%matplotlib inline\n",
    "import matplotlib.pyplot as plt"
   ]
  },
  {
   "cell_type": "code",
   "execution_count": null,
   "metadata": {},
   "outputs": [],
   "source": [
    "# Use this is you are running from within a simulation directory\n",
    "#simulation_directory = '.'\n",
    "\n",
    "# use this to point to a specific simulation directory, if you run this notebook from somwhere else\n",
    "simulation_directory = '/Users/awetzel/work/research/simulation/gizmo/simulations/m12/m12i/elementtracer/m12i_res57000'"
   ]
  },
  {
   "cell_type": "code",
   "execution_count": null,
   "metadata": {},
   "outputs": [],
   "source": [
    "# Read star particles at z = 0 from a simulation with element-tracers enabled\n",
    "\n",
    "part = gizmo.io.Read.read_snapshots(['star', 'gas'], 'index', 600, assign_hosts_rotation=True, simulation_directory=simulation_directory)"
   ]
  },
  {
   "cell_type": "code",
   "execution_count": null,
   "metadata": {},
   "outputs": [],
   "source": [
    "# The simulation has element-tracers if the following flag is True\n",
    "\n",
    "part.info['has.elementtracer']"
   ]
  },
  {
   "cell_type": "code",
   "execution_count": null,
   "metadata": {},
   "outputs": [],
   "source": [
    "# Additional information about the element-tracer model used in the simulation\n",
    "\n",
    "# number of age bins in the element-tracer model\n",
    "print('number of age bins = {}'.format(part.info['elementtracer.age.bin.number']))\n",
    "\n",
    "# if element-tracer model used bins equally spaced in log age (which is the default), the min and max age of these bins [Myr] (though GizmoAnalysis will over-ride the age min to be 0)\n",
    "if 'elementtracer.age.min' in part.info:\n",
    "    print('age min,max = {}, {} Myr'.format(part.info['elementtracer.age.min'], part.info['elementtracer.age.max']))\n",
    "\n",
    "# alternately, if the simulation used custom age bins, this lists them\n",
    "if 'elementtracer.age.bins' in part.info:\n",
    "    print('age bins = {}'.format(part.info['elementtracer.age.bins']))\n",
    "\n",
    "# targeted number of element-tracer injection events per age bin\n",
    "# if <= 0, this means Gizmo deposited weights at each timestep\n",
    "print('targeted number of events per age bins = {}'.format(part.info['elementtracer.event.number.per.age.bin']))"
   ]
  },
  {
   "cell_type": "code",
   "execution_count": null,
   "metadata": {},
   "outputs": [],
   "source": [
    "# If a simulation has element-tracers enabled, read_snapshots() automatically sets up the nucleosynthetic yields for computing elementa abundances in the FIRE-2 model and assigns the class to the each species' particle dictionary\n",
    "\n",
    "# Here we explicitly work though these steps for star particles. this works identically for gas cells\n",
    "\n",
    "#species_name = 'star'\n",
    "species_name = 'gas'"
   ]
  },
  {
   "cell_type": "code",
   "execution_count": null,
   "metadata": {},
   "outputs": [],
   "source": [
    "# Create and append an element-tracer dictionary class to particle species catalog\n",
    "# this stores all element-tracer information and provides the methods to compute elemental abundances (mass fractions) for each particle from the element-tracer mass weights\n",
    "\n",
    "# pass in the snapshot header information, stored via part.info, which contains the element-tracer bin information, to set up the age bins\n",
    "part[species_name].ElementTracer = gizmo.elementtracer.ElementTracerClass(part.info)\n",
    "\n",
    "# test of older simulations\n",
    "#element_index_start = 15\n",
    "#part[species_name].ElementTracer = gizmo.elementtracer.ElementTracerClass#(element_index_start=element_index_start)\n",
    "#part[species_name].ElementTracer.assign_age_bins(age_bin_number=16, age_min=1, age_max=14000)\n",
    "#part[species_name]['massfraction'][:, element_index_start:] *= part.Cosmology['hubble'] / 1e10"
   ]
  },
  {
   "cell_type": "code",
   "execution_count": null,
   "metadata": {},
   "outputs": [],
   "source": [
    "# Set the initial conditions for elemental abundances, that is, the initial mass fraction of each element.\n",
    "# this is not strictly necessary, the initial massfractions will default to 0 if you do not do this.\n",
    "# but this step can be useful if you want to be consistent with the metallicity floor (mass fraction = 1e-4 or 1e-5) used in many FIRE-2 simulations.\n",
    "\n",
    "# you can supply a single float to apply to all abundances (this is the default),\n",
    "# or you can supply a dictionary with element names as keys and values as initial mass fractions, if you want to use a different initial abundance for each element\n",
    "\n",
    "metallicity_initial = 1e-5\n",
    "massfraction_initial = {}\n",
    "for element_name in FIREYield.NucleosyntheticYield.sun_massfraction:\n",
    "    massfraction_initial[element_name] = (\n",
    "       metallicity_initial * FIREYield.NucleosyntheticYield.sun_massfraction[element_name])\n",
    "part[species_name].ElementTracer.assign_element_massfraction_initial(massfraction_initial)"
   ]
  },
  {
   "cell_type": "code",
   "execution_count": null,
   "metadata": {},
   "outputs": [],
   "source": [
    "# up to now we have not set or assumed any stellar nucleosynthetic rate or yield model, so the information in ElementTracer is completely general\n",
    "\n",
    "# next we need to assume actual nucleosynthetic rates + yields for a given stellar evolution model, to supply to ElementTracer, to generate actual nucleosynthetic yields from the element-tracer weights.\n",
    "# see gizmo_elementtracer.py for examples in setting up the required yield class, which should contain a rate + yield model for each element.\n",
    "\n",
    "# here we use the default stellar evolution model in FIRE-2, assuming a default progenitor metallicity of 1.0 x Solar\n",
    "FIREYield = gizmo.elementtracer.FIREYieldClass('fire2', progenitor_metallicity=1.0)"
   ]
  },
  {
   "cell_type": "code",
   "execution_count": null,
   "metadata": {},
   "outputs": [],
   "source": [
    "# next we generate a nucleosynthetic yield table, by integrating this nucleosynthetic yield model within each element-tracer age bin, to discretize/average these nucleosynthetic yields within the element-tracer  age bins.\n",
    "# so, we neet to supply the age bins used in the element-tracer model.\n",
    "# these yields should be in a dictionary, with element names as keys, and an array of yields within each age bin as values.\n",
    "\n",
    "yield_dict = FIREYield.get_element_yields(part[species_name].ElementTracer['age.bins'])"
   ]
  },
  {
   "cell_type": "code",
   "execution_count": null,
   "metadata": {},
   "outputs": [],
   "source": [
    "# finally, transfer this yield dictionary to store in ElementTracer.\n",
    "# this stores the dictionary keys as both the element name and the element symbol, for convenience in calling later.\n",
    "\n",
    "part[species_name].ElementTracer.assign_element_yields(yield_dict)"
   ]
  },
  {
   "cell_type": "code",
   "execution_count": null,
   "metadata": {},
   "outputs": [],
   "source": [
    "# now you can use .prop() to call the element-tracer elemental mass fractions as derived quantities,\n",
    "# you just need to append '.elementtracer' to the property name.\n",
    "# under the hood, this uses ElementTracer.get_element_massfractions() to compute the element mass fractions from the element-tracer weights convolved with the nucleosynthetic yield model, adding in the initial abundances (if you set them).\n",
    "\n",
    "# mass fraction of iron for each particle, as tracked natively in the simulation\n",
    "print(part[species_name].prop('massfraction.fe'))\n",
    "\n",
    "# mass fraction of iron for each particle, as computed via post-processing the element-tracer weights\n",
    "print(part[species_name].prop('massfraction.elementtracer.fe'))\n",
    "\n",
    "# 'metallicity' (wrt Solar, as in Asplund et al 2009) of iron for each particle, as tracked natively in the simulation\n",
    "print(part[species_name].prop('metallicity.fe'))\n",
    "\n",
    "# 'metallicity' of iron for each particle, as computed via post-processing the element-tracer weights\n",
    "print(part[species_name].prop('metallicity.elementtracer.fe'))"
   ]
  },
  {
   "cell_type": "code",
   "execution_count": null,
   "metadata": {},
   "outputs": [],
   "source": [
    "#gal = ut.particle.get_galaxy_properties(part, axis_kind='both')\n",
    "\n",
    "dists = part[species_name].prop('host.distance.principal.cyl')\n",
    "pis = None\n",
    "pis = ut.array.get_indices(dists[:, 0], [0, 15], pis)\n",
    "pis = ut.array.get_indices(dists[:, 2], [-3, 3], pis)"
   ]
  },
  {
   "cell_type": "code",
   "execution_count": null,
   "metadata": {},
   "outputs": [],
   "source": [
    "# plot the results\n",
    "element_name = 'fe'\n",
    "\n",
    "from utilities.binning import BinClass\n",
    "\n",
    "metallicity_limits = [-1.0, 1.0]\n",
    "Bin = BinClass(metallicity_limits, width=0.01)\n",
    "\n",
    "metallicity_sim = part[species_name].prop('metallicity.' + element_name, pis)\n",
    "metallicity_elementtracer = part[species_name].prop('metallicity.elementtracer.' + element_name, pis).clip(-5, 10)\n",
    "\n",
    "masks = (metallicity_elementtracer > -5) * (metallicity_sim > -5)\n",
    "\n",
    "distr_sim = Bin.get_distribution(metallicity_sim[masks])\n",
    "distr_elementtracer = Bin.get_distribution(metallicity_elementtracer[masks])\n",
    "\n",
    "fig, ax = plt.subplots()\n",
    "fig.set_size_inches(6, 4)\n",
    "\n",
    "# plot the native abundances, computed directly in the simulation\n",
    "ax.plot(distr_sim['bin'], distr_sim['sum'], lw=3, color='black', label='simulation')\n",
    "\n",
    "# plot the post-processed abundances, from the element-tracer weights\n",
    "ax.plot(distr_elementtracer['bin'], distr_elementtracer['sum'], lw=3, color='C0', label='element-tracer')\n",
    "\n",
    "ax.legend(loc='best')\n",
    "ax.set_ylim(0, None)\n",
    "ax.set_xlim(metallicity_limits[0], metallicity_limits[1])\n",
    "ax.set_xlabel('[Fe/H]')\n",
    "\n",
    "#ut.math.print_statistics(metallicity_sim)\n",
    "\n",
    "#ut.math.print_statistics(metallicity_elementtracer)\n",
    "\n",
    "difs = metallicity_elementtracer - metallicity_sim\n",
    "\n",
    "ut.math.print_statistics(difs)"
   ]
  },
  {
   "cell_type": "code",
   "execution_count": null,
   "metadata": {},
   "outputs": [],
   "source": [
    "# plot the results\n",
    "\n",
    "from utilities.binning import BinClass\n",
    "\n",
    "fe_limits = [-1.5, 1.0]\n",
    "Bin = BinClass(fe_limits, width=0.05)\n",
    "\n",
    "# plot the native abundances, computed directly in the simulation\n",
    "fe_sim = part[species_name].prop('metallicity.fe')\n",
    "alpha_sim = part[species_name].prop('metallicity.o - metallicity.fe')\n",
    "fe_elementtracer = part[species_name].prop('metallicity.elementtracer.fe').clip(-5, 10)\n",
    "alpha_elementtracer = part[species_name].prop('metallicity.elementtracer.o').clip(-5, 10) - fe_elementtracer\n",
    "\n",
    "masks = (fe_sim > -4.5) * (fe_elementtracer > -4.5)\n",
    "\n",
    "stats_sim = Bin.get_statistics_of_array(fe_sim[masks], alpha_sim[masks])\n",
    "stats_elementtracer = Bin.get_statistics_of_array(fe_elementtracer[masks], alpha_elementtracer[masks])\n",
    "\n",
    "fig, ax = plt.subplots()\n",
    "fig.set_size_inches(6, 4)\n",
    "\n",
    "ax.plot(stats_sim['bin.mid'], stats_sim['median'], lw=3, color='black', label='simulation')\n",
    "ax.fill_between(\n",
    "    stats_sim['bin.mid'], stats_sim['percent.16'], stats_sim['percent.84'], alpha=0.2, lw=3, color='black')\n",
    "\n",
    "# plot the post-processed abundances, from the element-tracer weights\n",
    "\n",
    "\n",
    "ax.plot(stats_elementtracer['bin.mid'], stats_elementtracer['median'], lw=3, color='C0', label='element-tracer')\n",
    "ax.fill_between(\n",
    "    stats_elementtracer['bin.mid'], stats_elementtracer['percent.16'], stats_elementtracer['percent.84'], alpha=0.2, lw=3, color='C0')\n",
    "#print(stats['median'])\n",
    "\n",
    "ax.legend(loc='best')\n",
    "ax.set_ylim(-0.4, 1.0)\n",
    "ax.set_xlim(fe_limits[0], fe_limits[1])\n",
    "ax.set_ylabel('[O/Fe]')\n",
    "ax.set_xlabel('[Fe/H]')\n",
    "\n",
    "difs = alpha_elementtracer[masks] - alpha_sim[masks]\n",
    "\n",
    "ut.math.print_statistics(difs)"
   ]
  },
  {
   "attachments": {},
   "cell_type": "markdown",
   "metadata": {},
   "source": [
    "## NuGrid"
   ]
  },
  {
   "attachments": {},
   "cell_type": "markdown",
   "metadata": {},
   "source": [
    "As another example, lets generate the NuGrid tables and re-do the above with those. This\n",
    "requires having NuPYCee and Sygma installed (https://nugrid.github.io/NuPyCEE/index.html)"
   ]
  },
  {
   "cell_type": "code",
   "execution_count": null,
   "metadata": {},
   "outputs": [],
   "source": [
    "# the NuGrid_yields class accepts kwargs to pass to the underlying\n",
    "# sygma model, so this allows for the use of the full Symga / NuGrid framework.\n",
    "#    this simple example just passes metallicity\n",
    "NuGrid_yield_model = gizmo.elementtracers.NuGrid_yields(\n",
    "    iniZ = 0.01 # metal mass fraction (must equal a NuGrid table value)\n",
    "                                                    )\n",
    "\n",
    "\n",
    "NuGrid_yield_table = gizmo.elementtracers.construct_yield_table(\n",
    "    NuGrid_yield_model, part.ageprop.age_bins/1000.0)\n",
    "\n",
    "# again, elements to generate for yield table are arbitary as long as\n",
    "# they are included in the yield model. Below uses all available elements:\n",
    "part.set_yield_table(NuGrid_yield_table, [str.lower(x) for x in NuGrid_yield_model.elements])"
   ]
  },
  {
   "cell_type": "code",
   "execution_count": null,
   "metadata": {},
   "outputs": [],
   "source": [
    "# Lets try this out with the NuGrid data now!\n",
    "\n",
    "from utilities.binning import BinClass\n",
    "\n",
    "fig,ax=plt.subplots()\n",
    "fig.set_size_inches(6,4)\n",
    "\n",
    "bc    = BinClass([-4,2],number= int((2-(-4))/0.1))\n",
    "\n",
    "# plot the native simulation data:\n",
    "stats = bc.get_statistics_of_array(\n",
    "    part['star'].prop('metallicity.fe'),\n",
    "    part['star'].prop('metallicity.alpha - metallicity.fe')\n",
    ")\n",
    "\n",
    "\n",
    "ax.plot(stats['bin.mid'][:-1], stats['median'][:-1], lw=3, color = 'black', label = 'Simulation')\n",
    "ax.fill_between(stats['bin.mid'], stats['percent.16'], stats['percent.84'], alpha=0.2,\n",
    "                lw = 3, color='black')\n",
    "\n",
    "\n",
    "# plot the post-processed data.\n",
    "# this can be done with just the \".elementtracer\" string, which works\n",
    "# for all things that the elements work on already (metallicity, mass, massfraction, etc.)\n",
    "bc    = BinClass([-4,2],number= int((2-(-4))/0.1))\n",
    "stats = bc.get_statistics_of_array(part['star'].prop('metallicity.elementtracer.fe'),\n",
    "                                   part['star'].prop('metallicity.elementtracer.alpha - metallicity.elementtracer.fe'))\n",
    "\n",
    "\n",
    "ax.plot(stats['bin.mid'][:-1], stats['median'][:-1], lw=3, color = 'C0', label = 'NuGrid - solar')\n",
    "ax.fill_between(stats['bin.mid'], stats['percent.16'], stats['percent.84'], alpha=0.2,\n",
    "                lw = 3, color='C0')\n",
    "\n",
    "\n",
    "ax.legend(loc='best')\n",
    "ax.set_ylim(-1,1)\n",
    "ax.set_xlim(-4,2)\n",
    "ax.set_ylabel(r'[$\\alpha$/Fe]')\n",
    "ax.set_xlabel('[Fe/H]')"
   ]
  }
 ],
 "metadata": {
  "anaconda-cloud": {},
  "kernelspec": {
   "display_name": "Python 3.9.12 ('base')",
   "language": "python",
   "name": "python3"
  },
  "language_info": {
   "codemirror_mode": {
    "name": "ipython",
    "version": 3
   },
   "file_extension": ".py",
   "mimetype": "text/x-python",
   "name": "python",
   "nbconvert_exporter": "python",
   "pygments_lexer": "ipython3",
   "version": "3.10.11"
  },
  "vscode": {
   "interpreter": {
    "hash": "7115d20ca5c79f45e1a940baa27b9176d93813e1a46d8238c5b4349e136aedbe"
   }
  }
 },
 "nbformat": 4,
 "nbformat_minor": 1
}
